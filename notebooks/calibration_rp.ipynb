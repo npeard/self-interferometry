{
 "cells": [
  {
   "cell_type": "code",
   "execution_count": null,
   "id": "5e3c1deb",
   "metadata": {},
   "outputs": [],
   "source": [
    "import numpy as np\n",
    "import matplotlib.pyplot as plt\n",
    "import scipy\n",
    "import pandas as pd\n",
    "import lmfit"
   ]
  },
  {
   "cell_type": "code",
   "execution_count": null,
   "id": "a2845a38",
   "metadata": {},
   "outputs": [],
   "source": [
    "df = pd.read_csv('../calibrationdata/RPRPData.csv')\n",
    "data = df.to_numpy()\n",
    "\n",
    "print(df.columns)"
   ]
  },
  {
   "cell_type": "code",
   "execution_count": null,
   "id": "03446f09",
   "metadata": {},
   "outputs": [],
   "source": [
    "freq = data[:, 0]\n",
    "vpp = data[:, 1]\n",
    "displ = data[:, 2]\n",
    "a = data[:, 3]\n",
    "a_sigma = data[:, 4]\n",
    "phases = data[:, 5]\n",
    "phases_sigma = data[:, 6]"
   ]
  },
  {
   "cell_type": "code",
   "execution_count": null,
   "id": "292e1321",
   "metadata": {},
   "outputs": [],
   "source": [
    "vampl = vpp/2\n",
    "\n",
    "fig, ax = plt.subplots(3)\n",
    "fig.set_size_inches(8, 6)\n",
    "\n",
    "ax[0].errorbar(freq, a, yerr=a_sigma, marker='.')\n",
    "ax[0].set_title(\"Plot of Displacement/Vampl vs. Frequency\")\n",
    "# ax[0].legend()\n",
    "ax[0].loglog()\n",
    "ax[0].set_ylabel(\"Displ (microns)/Vampl (V)\")\n",
    "\n",
    "ax[1].errorbar(freq, phases, marker='.', yerr=phases_sigma, label=\"0.2 Vpp Data\")\n",
    "ax[1].set_xscale('log')\n",
    "ax[1].set_ylabel(\"Phase (radians)\")\n",
    "\n",
    "ax[2].plot(freq, vpp/0.2, marker='.')\n",
    "ax[2].loglog()\n",
    "ax[2].set_ylabel(\"Vpp_out/Vpp_display\")\n",
    "ax[2].set_xlabel(\"Frequency (Hz)\")\n",
    "plt.tight_layout()"
   ]
  },
  {
   "cell_type": "markdown",
   "id": "c8d2b26f",
   "metadata": {},
   "source": [
    "Expected transfer function for displ/V_ampl assuming speaker is a damped harmonic oscillator:\n",
    "\n",
    "$$\n",
    "A = \\frac{k f_0^2}{\\sqrt{(f_0^2 - f^2)^2 + \\frac{f_0^2}{Q^2}f^2}}\n",
    "$$"
   ]
  },
  {
   "cell_type": "code",
   "execution_count": null,
   "id": "10324403",
   "metadata": {},
   "outputs": [],
   "source": [
    "def A(f, f0, Q, k):\n",
    "    return (k * f0**2) / np.sqrt((f0**2 - f**2)**2 + f0**2*f**2/Q**2)"
   ]
  },
  {
   "cell_type": "markdown",
   "id": "88247f41",
   "metadata": {},
   "source": [
    "Add constant $c$ to add flexibility for potential phase offset from data between 20-1kHz: \n",
    "\n",
    "\n",
    "$$\n",
    "\\phi = \\arctan \\left( \\frac{\\frac{f_0}{Q} f}{f^2 - f_0^2} \\right) + c\n",
    "$$"
   ]
  },
  {
   "cell_type": "code",
   "execution_count": null,
   "id": "dcf9688f",
   "metadata": {},
   "outputs": [],
   "source": [
    "def phase(f_trunc, f0, Q, c):\n",
    "    return np.arctan2(f0/Q*f_trunc, f_trunc**2 - f0**2) + c"
   ]
  },
  {
   "cell_type": "code",
   "execution_count": null,
   "id": "246a00de",
   "metadata": {},
   "outputs": [],
   "source": [
    "# for curve-fitting, start from 20Hz where Vpp_out/Vpp_display relatively 1:1\n",
    "pfreq = freq\n",
    "f_tot = np.append(pfreq, freq) \n",
    "y_tot = np.append(phases, a)"
   ]
  },
  {
   "cell_type": "code",
   "execution_count": null,
   "id": "38797d52",
   "metadata": {},
   "outputs": [],
   "source": [
    "def combined_func(ftot, f0, Q, k, c):\n",
    "    f_phase  = ftot[:len(pfreq)]\n",
    "    f_ampl = ftot[len(pfreq):]\n",
    "    \n",
    "    phase_val = phase(f_phase, f0, Q, c)\n",
    "    A_val = A(f_ampl, f0, Q, k)\n",
    "    \n",
    "    return np.append(phase_val, A_val)"
   ]
  },
  {
   "cell_type": "code",
   "execution_count": null,
   "id": "9fbafb14",
   "metadata": {},
   "outputs": [],
   "source": [
    "model = lmfit.Model(combined_func, weights=np.append(1/phases_sigma[3:], 1/a_sigma[3:]), scale_covar=True)\n",
    "params = model.make_params(f0=255, Q=30, k=1, c=-3)\n",
    "params['Q'].set(min=0)\n",
    "print(f'parameter names: {model.param_names}')\n",
    "print(f'independent variables: {model.independent_vars}')"
   ]
  },
  {
   "cell_type": "code",
   "execution_count": null,
   "id": "f397b873",
   "metadata": {},
   "outputs": [],
   "source": [
    "result = model.fit(y_tot, params, ftot=f_tot, weights=np.append(1/phases_sigma, 1/a_sigma), scale_covar=False)"
   ]
  },
  {
   "cell_type": "code",
   "execution_count": null,
   "id": "8dc727ec",
   "metadata": {},
   "outputs": [],
   "source": [
    "result.plot(yerr=np.append(phases_sigma, a_sigma))"
   ]
  },
  {
   "cell_type": "code",
   "execution_count": null,
   "id": "ad9c67fc",
   "metadata": {},
   "outputs": [],
   "source": [
    "result"
   ]
  },
  {
   "cell_type": "code",
   "execution_count": null,
   "id": "18db6fa7",
   "metadata": {},
   "outputs": [],
   "source": [
    "f0_uvar = result.uvars['f0']\n",
    "Q_uvar = result.uvars['Q']\n",
    "c_uvar = result.uvars['c']\n",
    "k_uvar = result.uvars['k']\n",
    "red_chi = result.redchi\n",
    "\n",
    "fig, ax = plt.subplots(nrows=3, sharex='col')\n",
    "fig.set_size_inches(8, 6)\n",
    "ax[0].errorbar(freq, displ/vampl, marker='.', linestyle='', yerr=a_sigma)\n",
    "freq_range = np.linspace(1, 1000, 1000)\n",
    "ax[0].plot(\n",
    "    freq_range,\n",
    "    A(freq_range, result.params['f0'], result.params['Q'], result.params['k']),\n",
    "    label=f'Fit: $f_0$ = {f0_uvar:SL}, $Q$ = {Q_uvar:SL},\\n$k$ = {k_uvar:SL}, Red. $\\chi^2$ = {red_chi:3.2f}',\n",
    "    color=\"orange\"\n",
    ")\n",
    "# ax[0].set_title(\"Plot of Displacement/Vampl vs. Frequency\")\n",
    "ax[0].legend()\n",
    "ax[0].loglog()\n",
    "ax[0].set_ylabel(\"Displ (microns)/Vampl_out (V)\")\n",
    "# ax[0].errorbar(freqs2, displ2/vampl2, yerr=displ2_sigma, fmt='none')\n",
    "ax[1].errorbar(freq, phases, marker='.', linestyle=\"\", yerr=phases_sigma)\n",
    "pfreq_range = np.linspace(1, 1000, 1000)\n",
    "ax[1].plot(\n",
    "    pfreq_range,\n",
    "    phase(pfreq_range, result.params['f0'], result.params['Q'], result.params['c']),\n",
    "    label=f'Fit: $f_0$ = {f0_uvar:SL}, $Q$ = {Q_uvar:SL},\\n$c$ = {c_uvar:SL}, Red. $\\chi^2$ = {red_chi:3.2f}',\n",
    "    color=\"orange\")\n",
    "ax[1].set_xscale('log')\n",
    "# ax[1].set_xlabel(\"Frequency (Hz)\")\n",
    "ax[1].set_ylabel(\"Phase (radians)\")\n",
    "ax[1].legend()\n",
    "\n",
    "# ax[1].set_title(\"Plot of Phase vs. Frequency\")\n",
    "# ax[1].errorbar(freqs_phase, phases, yerr=phase_sigma, fmt='none')\n",
    "ax[2].plot(freq, vpp/0.2, marker='.')\n",
    "ax[2].loglog()\n",
    "ax[2].set_ylabel(\"Vpp_out/Vpp_display\")\n",
    "ax[2].set_xlabel(\"Frequency (Hz)\")\n",
    "ax[2].set_title(\"Plot of RP Output Vpp/Display Vpp\")\n",
    "\n",
    "plt.suptitle(\"Frequency Response of Speaker Driven at 0.2Vpp\")\n",
    "plt.tight_layout()\n",
    "# , $Q$ = {result.uvars['Q']:SL},\\n$c$ = {result.uvars['c']:SL}, Red. $\\chi^2$ = {result.redchi}"
   ]
  },
  {
   "cell_type": "code",
   "execution_count": null,
   "id": "7bf5e953",
   "metadata": {},
   "outputs": [],
   "source": [
    "result.params['c']"
   ]
  },
  {
   "cell_type": "code",
   "execution_count": null,
   "id": "ba187cb7",
   "metadata": {},
   "outputs": [],
   "source": []
  }
 ],
 "metadata": {
  "language_info": {
   "name": "python"
  }
 },
 "nbformat": 4,
 "nbformat_minor": 5
}
